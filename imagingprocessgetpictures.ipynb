{
  "nbformat": 4,
  "nbformat_minor": 0,
  "metadata": {
    "colab": {
      "provenance": [],
      "mount_file_id": "1Fk3Hp5XzkDU1ribuq1UbJyLAqwZHPaEk",
      "authorship_tag": "ABX9TyM39t3FMEsz6+I0NAXIOmDS",
      "include_colab_link": true
    },
    "kernelspec": {
      "name": "python3",
      "display_name": "Python 3"
    },
    "language_info": {
      "name": "python"
    }
  },
  "cells": [
    {
      "cell_type": "markdown",
      "metadata": {
        "id": "view-in-github",
        "colab_type": "text"
      },
      "source": [
        "<a href=\"https://colab.research.google.com/github/julianic6/DS595-Machine-Learning-for-Engineering-and-Science-Applications/blob/main/imagingprocessgetpictures.ipynb\" target=\"_parent\"><img src=\"https://colab.research.google.com/assets/colab-badge.svg\" alt=\"Open In Colab\"/></a>"
      ]
    },
    {
      "cell_type": "code",
      "execution_count": 1,
      "metadata": {
        "colab": {
          "base_uri": "https://localhost:8080/"
        },
        "id": "f0iyvGLQMs6o",
        "outputId": "4f6d4d8f-2136-4e37-9cc3-2802bcbbdd96"
      },
      "outputs": [
        {
          "output_type": "stream",
          "name": "stdout",
          "text": [
            "Requirement already satisfied: numpy==1.21.6 in /usr/local/lib/python3.10/dist-packages (1.21.6)\n"
          ]
        }
      ],
      "source": [
        "!pip install numpy==1.21.6"
      ]
    },
    {
      "cell_type": "code",
      "source": [
        "from google.colab import drive\n",
        "drive.mount('/content/drive')"
      ],
      "metadata": {
        "colab": {
          "base_uri": "https://localhost:8080/"
        },
        "id": "JHqfl7nHMu5c",
        "outputId": "9a5a37a7-5e51-428a-ae0d-db0005809021"
      },
      "execution_count": 23,
      "outputs": [
        {
          "output_type": "stream",
          "name": "stdout",
          "text": [
            "Drive already mounted at /content/drive; to attempt to forcibly remount, call drive.mount(\"/content/drive\", force_remount=True).\n"
          ]
        }
      ]
    },
    {
      "cell_type": "code",
      "source": [
        "import os\n",
        "\n",
        "folder_path = '/content/drive/MyDrive/Digital Imaging'\n",
        "os.chdir(folder_path)\n",
        "\n",
        "!unzip faces_webface_112x112.zip"
      ],
      "metadata": {
        "colab": {
          "base_uri": "https://localhost:8080/"
        },
        "id": "PL9Geng1SMCd",
        "outputId": "20324f16-91d1-42a2-dbbe-57ff87c0cacf"
      },
      "execution_count": null,
      "outputs": [
        {
          "output_type": "stream",
          "name": "stdout",
          "text": [
            "Archive:  faces_webface_112x112.zip\n",
            "replace faces_webface_112x112/property? [y]es, [n]o, [A]ll, [N]one, [r]ename: "
          ]
        }
      ]
    },
    {
      "cell_type": "code",
      "source": [
        "!python convert.py --rec_path ."
      ],
      "metadata": {
        "id": "_G17u3hKNWJF"
      },
      "execution_count": null,
      "outputs": []
    },
    {
      "cell_type": "code",
      "source": [
        "\n",
        "def extract_images_from_rec(rec_path, output_dir):\n",
        "    # Create the output directory if it doesn't exist\n",
        "    os.makedirs(output_dir, exist_ok=True)\n",
        "\n",
        "    # Open the .rec file\n",
        "    imgrec = mx.recordio.MXIndexedRecordIO(rec_path + '.idx', rec_path + '.rec', 'r')\n",
        "\n",
        "    # Read the header to get the number of images\n",
        "    header_idx = int(imgrec.read_idx(0))\n",
        "    header_info = imgrec.read_idx(header_idx)\n",
        "    header, _ = mx.recordio.unpack(header_info)\n",
        "    num_images = int(header.label[0])\n",
        "\n",
        "    # Loop through the images and save them\n",
        "    for idx in tqdm(range(1, num_images + 1)):\n",
        "        img_info = imgrec.read_idx(idx)\n",
        "        _, img = mx.recordio.unpack_img(img_info)\n",
        "\n",
        "        # Convert image array to PIL Image\n",
        "        img = Image.fromarray(img)\n",
        "\n",
        "        # Save the image\n",
        "        img_path = os.path.join(output_dir, f'image_{idx}.jpg')\n",
        "        img.save(img_path)\n",
        "\n",
        "if __name__ == '__main__':\n",
        "    rec_path = '/content/drive/MyDrive/Digital Imaging'  # Replace with the path to your .rec file\n",
        "    output_dir = '/content/drive/MyDrive/Digital Imaging'  # Replace with the path to the output directory\n",
        "    extract_images_from_rec(rec_path, output_dir)"
      ],
      "metadata": {
        "colab": {
          "base_uri": "https://localhost:8080/",
          "height": 349
        },
        "id": "MepRb69eW_MV",
        "outputId": "d3ab6a2b-890d-488f-c925-227156b327d6"
      },
      "execution_count": 16,
      "outputs": [
        {
          "output_type": "error",
          "ename": "NameError",
          "evalue": "name 'mxnet' is not defined",
          "traceback": [
            "\u001b[0;31m---------------------------------------------------------------------------\u001b[0m",
            "\u001b[0;31mNameError\u001b[0m                                 Traceback (most recent call last)",
            "\u001b[0;32m<ipython-input-16-59665949daea>\u001b[0m in \u001b[0;36m<cell line: 26>\u001b[0;34m()\u001b[0m\n\u001b[1;32m     27\u001b[0m     \u001b[0mrec_path\u001b[0m \u001b[0;34m=\u001b[0m \u001b[0;34m'/content/drive/MyDrive/Digital Imaging'\u001b[0m  \u001b[0;31m# Replace with the path to your .rec file\u001b[0m\u001b[0;34m\u001b[0m\u001b[0;34m\u001b[0m\u001b[0m\n\u001b[1;32m     28\u001b[0m     \u001b[0moutput_dir\u001b[0m \u001b[0;34m=\u001b[0m \u001b[0;34m'/content/drive/MyDrive/Digital Imaging'\u001b[0m  \u001b[0;31m# Replace with the path to the output directory\u001b[0m\u001b[0;34m\u001b[0m\u001b[0;34m\u001b[0m\u001b[0m\n\u001b[0;32m---> 29\u001b[0;31m     \u001b[0mextract_images_from_rec\u001b[0m\u001b[0;34m(\u001b[0m\u001b[0mrec_path\u001b[0m\u001b[0;34m,\u001b[0m \u001b[0moutput_dir\u001b[0m\u001b[0;34m)\u001b[0m\u001b[0;34m\u001b[0m\u001b[0;34m\u001b[0m\u001b[0m\n\u001b[0m",
            "\u001b[0;32m<ipython-input-16-59665949daea>\u001b[0m in \u001b[0;36mextract_images_from_rec\u001b[0;34m(rec_path, output_dir)\u001b[0m\n\u001b[1;32m      4\u001b[0m \u001b[0;34m\u001b[0m\u001b[0m\n\u001b[1;32m      5\u001b[0m     \u001b[0;31m# Open the .rec file\u001b[0m\u001b[0;34m\u001b[0m\u001b[0;34m\u001b[0m\u001b[0m\n\u001b[0;32m----> 6\u001b[0;31m     \u001b[0mimgrec\u001b[0m \u001b[0;34m=\u001b[0m \u001b[0mmxnet\u001b[0m\u001b[0;34m.\u001b[0m\u001b[0mrecordio\u001b[0m\u001b[0;34m.\u001b[0m\u001b[0mMXIndexedRecordIO\u001b[0m\u001b[0;34m(\u001b[0m\u001b[0mrec_path\u001b[0m \u001b[0;34m+\u001b[0m \u001b[0;34m'.idx'\u001b[0m\u001b[0;34m,\u001b[0m \u001b[0mrec_path\u001b[0m \u001b[0;34m+\u001b[0m \u001b[0;34m'.rec'\u001b[0m\u001b[0;34m,\u001b[0m \u001b[0;34m'r'\u001b[0m\u001b[0;34m)\u001b[0m\u001b[0;34m\u001b[0m\u001b[0;34m\u001b[0m\u001b[0m\n\u001b[0m\u001b[1;32m      7\u001b[0m \u001b[0;34m\u001b[0m\u001b[0m\n\u001b[1;32m      8\u001b[0m     \u001b[0;31m# Read the header to get the number of images\u001b[0m\u001b[0;34m\u001b[0m\u001b[0;34m\u001b[0m\u001b[0m\n",
            "\u001b[0;31mNameError\u001b[0m: name 'mxnet' is not defined"
          ]
        }
      ]
    }
  ]
}