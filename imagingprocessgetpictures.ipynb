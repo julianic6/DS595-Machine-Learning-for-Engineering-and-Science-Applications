{
  "nbformat": 4,
  "nbformat_minor": 0,
  "metadata": {
    "colab": {
      "provenance": [],
      "mount_file_id": "1Fk3Hp5XzkDU1ribuq1UbJyLAqwZHPaEk",
      "authorship_tag": "ABX9TyP5h3n6PLaFXhqAxe8UVpzm",
      "include_colab_link": true
    },
    "kernelspec": {
      "name": "python3",
      "display_name": "Python 3"
    },
    "language_info": {
      "name": "python"
    }
  },
  "cells": [
    {
      "cell_type": "markdown",
      "metadata": {
        "id": "view-in-github",
        "colab_type": "text"
      },
      "source": [
        "<a href=\"https://colab.research.google.com/github/julianic6/DS595-Machine-Learning-for-Engineering-and-Science-Applications/blob/main/imagingprocessgetpictures.ipynb\" target=\"_parent\"><img src=\"https://colab.research.google.com/assets/colab-badge.svg\" alt=\"Open In Colab\"/></a>"
      ]
    },
    {
      "cell_type": "code",
      "execution_count": 1,
      "metadata": {
        "colab": {
          "base_uri": "https://localhost:8080/"
        },
        "id": "f0iyvGLQMs6o",
        "outputId": "6f5ad37f-bd6c-4271-e86e-9c79f790c594"
      },
      "outputs": [
        {
          "output_type": "stream",
          "name": "stdout",
          "text": [
            "Requirement already satisfied: mxnet-mkl==1.6.0 in /usr/local/lib/python3.10/dist-packages (1.6.0)\n",
            "Requirement already satisfied: numpy==1.23.1 in /usr/local/lib/python3.10/dist-packages (1.23.1)\n",
            "Requirement already satisfied: requests<3,>=2.20.0 in /usr/local/lib/python3.10/dist-packages (from mxnet-mkl==1.6.0) (2.31.0)\n",
            "Requirement already satisfied: graphviz<0.9.0,>=0.8.1 in /usr/local/lib/python3.10/dist-packages (from mxnet-mkl==1.6.0) (0.8.4)\n",
            "Requirement already satisfied: charset-normalizer<4,>=2 in /usr/local/lib/python3.10/dist-packages (from requests<3,>=2.20.0->mxnet-mkl==1.6.0) (3.3.2)\n",
            "Requirement already satisfied: idna<4,>=2.5 in /usr/local/lib/python3.10/dist-packages (from requests<3,>=2.20.0->mxnet-mkl==1.6.0) (3.6)\n",
            "Requirement already satisfied: urllib3<3,>=1.21.1 in /usr/local/lib/python3.10/dist-packages (from requests<3,>=2.20.0->mxnet-mkl==1.6.0) (2.0.7)\n",
            "Requirement already satisfied: certifi>=2017.4.17 in /usr/local/lib/python3.10/dist-packages (from requests<3,>=2.20.0->mxnet-mkl==1.6.0) (2024.2.2)\n"
          ]
        }
      ],
      "source": [
        "!pip install mxnet-mkl==1.6.0 numpy==1.23.1"
      ]
    },
    {
      "cell_type": "code",
      "source": [
        "from google.colab import drive\n",
        "drive.mount('/content/drive')"
      ],
      "metadata": {
        "colab": {
          "base_uri": "https://localhost:8080/"
        },
        "id": "JHqfl7nHMu5c",
        "outputId": "09755dd7-50f7-4f12-d309-64a4f70dbf19"
      },
      "execution_count": 2,
      "outputs": [
        {
          "output_type": "stream",
          "name": "stdout",
          "text": [
            "Drive already mounted at /content/drive; to attempt to forcibly remount, call drive.mount(\"/content/drive\", force_remount=True).\n"
          ]
        }
      ]
    },
    {
      "cell_type": "code",
      "source": [
        "import os\n",
        "\n",
        "folder_path = '/content/drive/MyDrive/Digital Imaging'\n",
        "os.chdir(folder_path)\n",
        "\n",
        "!unzip faces_webface_112x112.zip"
      ],
      "metadata": {
        "colab": {
          "base_uri": "https://localhost:8080/"
        },
        "id": "PL9Geng1SMCd",
        "outputId": "9de33597-2ef3-4e1e-8b70-b9347c1dac76"
      },
      "execution_count": 3,
      "outputs": [
        {
          "output_type": "stream",
          "name": "stdout",
          "text": [
            "Archive:  faces_webface_112x112.zip\n",
            "  inflating: faces_webface_112x112/property  \n",
            "  inflating: faces_webface_112x112/calfw.bin  \n",
            "  inflating: faces_webface_112x112/train.rec  \n",
            "  inflating: faces_webface_112x112/cplfw.bin  \n",
            "  inflating: faces_webface_112x112/train.lst  \n",
            "  inflating: faces_webface_112x112/agedb_30.bin  \n",
            "  inflating: faces_webface_112x112/train.idx  \n",
            "  inflating: faces_webface_112x112/cfp_fp.bin  \n",
            "  inflating: faces_webface_112x112/cfp_ff.bin  \n",
            "  inflating: faces_webface_112x112/lfw.bin  \n"
          ]
        }
      ]
    },
    {
      "cell_type": "code",
      "source": [
        "!python convert.py --rec_path ."
      ],
      "metadata": {
        "id": "_G17u3hKNWJF",
        "colab": {
          "base_uri": "https://localhost:8080/"
        },
        "outputId": "3acfc5a8-1d55-4d99-92c9-1289d4307201"
      },
      "execution_count": 5,
      "outputs": [
        {
          "output_type": "stream",
          "name": "stdout",
          "text": [
            "100% 490623/490623 [2:06:42<00:00, 64.53it/s]\n"
          ]
        }
      ]
    }
  ]
}